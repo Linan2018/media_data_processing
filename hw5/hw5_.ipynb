{
 "cells": [
  {
   "cell_type": "markdown",
   "metadata": {},
   "source": [
    "### 使用KD树为空间数据建立索引结构\n"
   ]
  },
  {
   "cell_type": "code",
   "execution_count": 10,
   "metadata": {},
   "outputs": [],
   "source": [
    "from collections import namedtuple\n",
    "from operator import itemgetter\n",
    "from pprint import pformat\n",
    "\n",
    "class Node(namedtuple('Node', 'location left_child right_child')):\n",
    "    \"\"\"节点定义\"\"\"\n",
    "    def __repr__(self):\n",
    "#         t = tuple(self)\n",
    "#         return pformat((('根节点:', t[0]), \n",
    "#                         ('左子树:', t[1]), \n",
    "#                         ('右子树:', t[2])))\n",
    "        return pformat(tuple(self))\n",
    "\n",
    "def kdtree(point_list, depth: int = 0):\n",
    "    \"\"\"建树\"\"\"\n",
    "    if not point_list:\n",
    "        return None\n",
    "    \n",
    "    # 确定分割维度\n",
    "    k = len(point_list[0])\n",
    "    axis = depth % k\n",
    "\n",
    "    # 按照选定维度的值排序，并获取中间索引\n",
    "    point_list.sort(key=itemgetter(axis))\n",
    "    median = len(point_list) // 2\n",
    "\n",
    "    # 以中间为根递归建立kd树\n",
    "    return Node(\n",
    "        location=point_list[median],\n",
    "        left_child=kdtree(point_list[:median], depth + 1),\n",
    "        right_child=kdtree(point_list[median + 1:], depth + 1)\n",
    "    )"
   ]
  },
  {
   "cell_type": "code",
   "execution_count": 11,
   "metadata": {},
   "outputs": [
    {
     "name": "stdout",
     "output_type": "stream",
     "text": [
      "((7, 2),\n",
      " ((5, 4), ((2, 3), None, None), ((4, 7), None, None)),\n",
      " ((9, 6), ((8, 1), None, None), None))\n"
     ]
    }
   ],
   "source": [
    "point_list = [(7,2), (5,4), (9,6), (4,7), (8,1), (2,3)]\n",
    "tree = kdtree(point_list)\n",
    "print(tree)"
   ]
  },
  {
   "cell_type": "markdown",
   "metadata": {},
   "source": [
    "![](2.png)"
   ]
  },
  {
   "cell_type": "markdown",
   "metadata": {},
   "source": [
    "![](1.png)\n",
    "例：目标点$(2,4.1)$，3-近邻$(2, 3),(5, 4),(4, 7)$"
   ]
  },
  {
   "cell_type": "code",
   "execution_count": 12,
   "metadata": {},
   "outputs": [],
   "source": [
    "import sys\n",
    "\n",
    "maxint = sys.maxsize\n",
    "minint = -maxint - 1\n",
    "hr_max = [(minint, maxint), (minint, maxint)]\n",
    "dist_max = float('inf')\n",
    "\n",
    "search_steps = 0"
   ]
  },
  {
   "cell_type": "code",
   "execution_count": 13,
   "metadata": {},
   "outputs": [],
   "source": [
    "def search_kdtree(tree, target_point, result, hr=hr_max, depth=0, text=True):\n",
    "    \"\"\"查找近邻\"\"\"\n",
    "    global search_steps\n",
    "    if depth == 0:\n",
    "        search_steps = 1\n",
    "    else:\n",
    "        search_steps += 1\n",
    "\n",
    "    cur_node = tree.location\n",
    "    left_branch = tree.left_child\n",
    "    right_branch = tree.right_child\n",
    "\n",
    "    nearer_kd = farther_kd = None\n",
    "    nearer_hr = farther_hr = None\n",
    "\n",
    "    # 选择分割维度 —— 0/1交替\n",
    "    axis = depth % 2\n",
    "\n",
    "    # 依据axis分割平面\n",
    "    left_hr, right_hr = split_hyperplane(cur_node, hr, axis)\n",
    "\n",
    "    # 检查目标点处于哪个区域\n",
    "    if target_point[axis] <= cur_node[axis]:\n",
    "        nearer_kd = left_branch\n",
    "        farther_kd = right_branch\n",
    "        nearer_hr = left_hr\n",
    "        farther_hr = right_hr\n",
    "    else:\n",
    "        nearer_kd = right_branch\n",
    "        farther_kd = left_branch\n",
    "        nearer_hr = right_hr\n",
    "        farther_hr = left_hr\n",
    "\n",
    "    # 检查当前点到NNs的距离是否更小\n",
    "    dist = result.compute_rel_distance(cur_node, target_point)\n",
    "    new_result = result.update(dist, cur_node)\n",
    "    \n",
    "    # nearer_kd是最近的子树，nearer_hr是对应的区域，进一步搜索这个区域\n",
    "    if nearer_kd:\n",
    "        if text:\n",
    "            print(\"@当前:\", cur_node, hr, \n",
    "                  \"\\n递归近邻:\", nearer_kd.location, nearer_hr, '\\n')\n",
    "        search_kdtree(nearer_kd, target_point,\n",
    "                      new_result, nearer_hr, depth+1, text)\n",
    "\n",
    "    # 如果在另一半区域内还有点，\n",
    "    # 那么在另一半区域可能会存在近邻，则需要计算目标点到另一个区域的最近距离\n",
    "    if farther_kd:\n",
    "        if text:\n",
    "            print(\"@当前:\", cur_node, hr, \n",
    "                  \"\\n回溯另一半:\", farther_kd.location, farther_hr, '\\n')\n",
    "        # pt是farther_hr区域上距离目标点最近的点（理想点）\n",
    "        pt = compute_closest_point(target_point, farther_hr)\n",
    "\n",
    "        # 检查\n",
    "        dist = new_result.compute_rel_distance( pt, target_point)\n",
    "        if new_result.can_contain(dist):\n",
    "            # 如果目标点到区域上理想点的距离比暂存的某个距离要小\n",
    "            # 那么这个区域有望出现近邻点，搜索这个区域\n",
    "            new_result = search_kdtree(farther_kd, target_point, \n",
    "                                       new_result, farther_hr, depth+1, text)\n",
    "            \n",
    "    return new_result"
   ]
  },
  {
   "cell_type": "code",
   "execution_count": 14,
   "metadata": {},
   "outputs": [],
   "source": [
    "def split_hyperplane (point, hr, axis):\n",
    "#     print(\"分割区域: X{},Y{}\".format(hr[0], hr[1]))\n",
    "#     print(\"以{}为分割点，\".format(point), end='')\n",
    "    if axis == 0:\n",
    "#         print(\"分割X轴\")\n",
    "        left_hr  = [(hr[0][0], point[0]), hr[1]]\n",
    "        right_hr = [(point[0], hr[0][1]), hr[1]]\n",
    "        \n",
    "    elif axis == 1:\n",
    "#         print(\"分割Y轴\")\n",
    "        left_hr  = [hr[0], (hr[1][0], point[1])]\n",
    "        right_hr = [hr[0], (point[1], hr[1][1])]\n",
    "#     print(\"左/下半区域: X{},Y{}\".format(left_hr[0], left_hr[1])) \n",
    "#     print(\"右/上半区域: X{},Y{}\\n\".format(right_hr[0], right_hr[1])) \n",
    "    return left_hr, right_hr"
   ]
  },
  {
   "cell_type": "code",
   "execution_count": 15,
   "metadata": {},
   "outputs": [],
   "source": [
    "def compute_closest_coordinate(value, range_min, range_max):\n",
    "    if value <= range_min:      #  X  <------->\n",
    "        return range_min        #     ^\n",
    "    elif value >= range_max:    #  <-------->  X\n",
    "        return range_max        #           ^\n",
    "    else:                       #    <------X--->\n",
    "        return value            #           ^\n",
    "    \n",
    "def compute_closest_point(location, hr):\n",
    "    \"\"\"计算区域上距离目标最近的点\"\"\"\n",
    "    return (compute_closest_coordinate(location[0], hr[0][0], hr[0][1]),\n",
    "            compute_closest_coordinate(location[1], hr[1][0], hr[1][1]))"
   ]
  },
  {
   "cell_type": "code",
   "execution_count": 18,
   "metadata": {},
   "outputs": [],
   "source": [
    "from sortedcontainers import SortedList\n",
    "\n",
    "class NNeighborsResult:\n",
    "    \"\"\"knn的结果\"\"\"\n",
    "    def __init__(self, n):\n",
    "        self.n = n\n",
    "        # n = 3\n",
    "        self.list = SortedList(None,key=itemgetter(0))\n",
    "        # [(1.2, (2, 3)), (9.01, (5, 4)), (12.4, (4, 7))]\n",
    "        self.dist_max = float('inf')\n",
    "        \n",
    "    def can_contain(self, rel_dist):\n",
    "        return rel_dist < self.dist_max  \n",
    "        \n",
    "    def update(self, dist, loc):\n",
    "        # 更新list和dist_max\n",
    "        if len(self.list) < self.n:\n",
    "            # list未满\n",
    "            self.list.add((dist, loc))\n",
    "            if dist > self.dist_max:\n",
    "                self.dist_max = dist\n",
    "                \n",
    "        elif dist < self.dist_max:\n",
    "            # list已满，则检查dist_max\n",
    "            self.list.add((dist, loc))\n",
    "            self.list.pop(self.n)\n",
    "            self.dist_max = self.list[self.n-1][0]\n",
    "            \n",
    "        return self\n",
    "\n",
    "    def compute_rel_distance(self, loc_a, loc_b):\n",
    "        return (loc_a[0] - loc_b[0])**2 + (loc_a[1] - loc_b[1])**2"
   ]
  },
  {
   "cell_type": "code",
   "execution_count": 19,
   "metadata": {},
   "outputs": [
    {
     "name": "stdout",
     "output_type": "stream",
     "text": [
      "@当前: (7, 2) [(-9223372036854775808, 9223372036854775807), (-9223372036854775808, 9223372036854775807)] \n",
      "递归近邻: (5, 4) [(-9223372036854775808, 7), (-9223372036854775808, 9223372036854775807)] \n",
      "\n",
      "@当前: (5, 4) [(-9223372036854775808, 7), (-9223372036854775808, 9223372036854775807)] \n",
      "递归近邻: (4, 7) [(-9223372036854775808, 7), (4, 9223372036854775807)] \n",
      "\n",
      "@当前: (5, 4) [(-9223372036854775808, 7), (-9223372036854775808, 9223372036854775807)] \n",
      "回溯另一半: (2, 3) [(-9223372036854775808, 7), (-9223372036854775808, 4)] \n",
      "\n",
      "@当前: (7, 2) [(-9223372036854775808, 9223372036854775807), (-9223372036854775808, 9223372036854775807)] \n",
      "回溯另一半: (9, 6) [(7, 9223372036854775807), (-9223372036854775808, 9223372036854775807)] \n",
      "\n",
      "SortedKeyList([(1.2099999999999993, (2, 3)), (9.01, (5, 4)), (12.410000000000002, (4, 7))], key=operator.itemgetter(0))\n"
     ]
    }
   ],
   "source": [
    "result = search_kdtree(tree, (2,4.1), NNeighborsResult(3))\n",
    "print(result.list)"
   ]
  },
  {
   "cell_type": "markdown",
   "metadata": {},
   "source": [
    "![](1.png)\n",
    "例：目标点$(2,4.1)$，3-近邻$(2, 3),(5, 4),(4, 7)$"
   ]
  },
  {
   "cell_type": "code",
   "execution_count": 35,
   "metadata": {},
   "outputs": [],
   "source": [
    "import pandas as pd \n",
    "df = pd.read_csv(\"BJ/real.txt\", header=None, sep=' ')\n",
    "\n",
    "data = df.iloc[:, 6:]\n",
    "data = [tuple(data.iloc[i]) for i in range(data.shape[0])]\n",
    "# print(data)"
   ]
  },
  {
   "cell_type": "code",
   "execution_count": 36,
   "metadata": {},
   "outputs": [
    {
     "name": "stdout",
     "output_type": "stream",
     "text": [
      "[(117.223, 39.9346), (116.411, 39.9097), (116.333, 40.0708), (116.309, 40.0078), (116.59700000000001, 40.0241)]\n"
     ]
    }
   ],
   "source": [
    "print(data[:5])"
   ]
  },
  {
   "cell_type": "code",
   "execution_count": 37,
   "metadata": {},
   "outputs": [
    {
     "data": {
      "image/png": "[encoded data removed]",
      "text/plain": [
       "<Figure size 432x288 with 1 Axes>"
      ]
     },
     "metadata": {
      "needs_background": "light"
     },
     "output_type": "display_data"
    },
    {
     "name": "stdout",
     "output_type": "stream",
     "text": [
      "共有 399 个数据点\n"
     ]
    }
   ],
   "source": [
    "import matplotlib.pyplot as plt\n",
    "n = len(data)\n",
    "x = [d[0] for d in data]\n",
    "y = [d[1] for d in data]\n",
    "plt.scatter(x, y)\n",
    "plt.show()\n",
    "print(\"共有\", n, \"个数据点\") "
   ]
  },
  {
   "cell_type": "code",
   "execution_count": 38,
   "metadata": {},
   "outputs": [
    {
     "name": "stdout",
     "output_type": "stream",
     "text": [
      "Wall time: 12 ms\n"
     ]
    }
   ],
   "source": [
    "# 建树\n",
    "%time tree = kdtree(data)\n",
    "# print(tree)"
   ]
  },
  {
   "cell_type": "code",
   "execution_count": 40,
   "metadata": {},
   "outputs": [
    {
     "data": {
      "text/plain": [
       "<matplotlib.collections.PathCollection at 0x1ea08006358>"
      ]
     },
     "execution_count": 40,
     "metadata": {},
     "output_type": "execute_result"
    },
    {
     "data": {
      "image/png": "[encoded data removed]",
      "text/plain": [
       "<Figure size 432x288 with 1 Axes>"
      ]
     },
     "metadata": {
      "needs_background": "light"
     },
     "output_type": "display_data"
    }
   ],
   "source": [
    "import random\n",
    "tar = (116.8, 40.2)\n",
    "search_steps = 0\n",
    "plt.scatter(x, y)\n",
    "plt.scatter([tar[0]], [tar[1]], c='r', marker='^')"
   ]
  },
  {
   "cell_type": "code",
   "execution_count": 41,
   "metadata": {},
   "outputs": [
    {
     "name": "stdout",
     "output_type": "stream",
     "text": [
      "Wall time: 0 ns\n"
     ]
    }
   ],
   "source": [
    "# 检索tar的10近邻\n",
    "%time result = search_kdtree(tree, tar, NNeighborsResult(10), text=False)"
   ]
  },
  {
   "cell_type": "code",
   "execution_count": 42,
   "metadata": {},
   "outputs": [
    {
     "name": "stdout",
     "output_type": "stream",
     "text": [
      "结果： [(116.70200000000001, 40.2147), (116.846, 40.3403), (116.84899999999999, 40.3502), (116.87, 40.3433), (116.825, 40.3638), (116.749, 40.035), (116.855, 40.364000000000004), (116.73899999999999, 40.3656), (116.977, 40.1303), (116.762, 40.391)]\n",
      "调用search_kdtree函数 32 次\n"
     ]
    }
   ],
   "source": [
    "res = [r[1] for r in result.list]\n",
    "print(\"结果：\", res) \n",
    "print(\"调用search_kdtree函数\", search_steps, \"次\")"
   ]
  },
  {
   "cell_type": "code",
   "execution_count": 43,
   "metadata": {},
   "outputs": [
    {
     "data": {
      "text/plain": [
       "<matplotlib.collections.PathCollection at 0x1ea0871b518>"
      ]
     },
     "execution_count": 43,
     "metadata": {},
     "output_type": "execute_result"
    },
    {
     "data": {
      "image/png": "[encoded data removed]",
      "text/plain": [
       "<Figure size 432x288 with 1 Axes>"
      ]
     },
     "metadata": {
      "needs_background": "light"
     },
     "output_type": "display_data"
    }
   ],
   "source": [
    "x_ = [d[0] for d in res]\n",
    "y_ = [d[1] for d in res]\n",
    "plt.scatter(x, y)\n",
    "plt.scatter([tar[0]], [tar[1]], c='r', marker='^', )\n",
    "plt.scatter(x_, y_, c='r')"
   ]
  },
  {
   "cell_type": "code",
   "execution_count": 44,
   "metadata": {},
   "outputs": [
    {
     "name": "stdout",
     "output_type": "stream",
     "text": [
      "Wall time: 3 ms\n",
      "调用search_kdtree函数 158 次\n"
     ]
    },
    {
     "data": {
      "text/plain": [
       "<matplotlib.collections.PathCollection at 0x1ea080005c0>"
      ]
     },
     "execution_count": 44,
     "metadata": {},
     "output_type": "execute_result"
    },
    {
     "data": {
      "image/png": "[encoded data removed]",
      "text/plain": [
       "<Figure size 432x288 with 1 Axes>"
      ]
     },
     "metadata": {
      "needs_background": "light"
     },
     "output_type": "display_data"
    }
   ],
   "source": [
    "# 检索tar的100近邻\n",
    "%time result = search_kdtree(tree, tar, NNeighborsResult(100), text=False)\n",
    "print(\"调用search_kdtree函数\", search_steps, \"次\")\n",
    "res = [r[1] for r in result.list]\n",
    "x_ = [d[0] for d in res]\n",
    "y_ = [d[1] for d in res]\n",
    "plt.scatter(x, y)\n",
    "plt.scatter([tar[0]], [tar[1]], c='r', marker='^', )\n",
    "plt.scatter(x_, y_, c='r')"
   ]
  },
  {
   "cell_type": "code",
   "execution_count": null,
   "metadata": {},
   "outputs": [],
   "source": []
  },
  {
   "cell_type": "code",
   "execution_count": null,
   "metadata": {},
   "outputs": [],
   "source": []
  }
 ],
 "metadata": {
  "kernelspec": {
   "display_name": "Python 3",
   "language": "python",
   "name": "python3"
  }
 },
 "nbformat": 4,
 "nbformat_minor": 2
}
